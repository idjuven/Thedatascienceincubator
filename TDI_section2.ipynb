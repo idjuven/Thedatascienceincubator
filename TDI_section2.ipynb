{
 "cells": [
  {
   "cell_type": "code",
   "execution_count": 1,
   "metadata": {},
   "outputs": [
    {
     "name": "stderr",
     "output_type": "stream",
     "text": [
      "C:\\Users\\yanlu\\anaconda3\\lib\\site-packages\\IPython\\core\\interactiveshell.py:3071: DtypeWarning: Columns (8,9,10,15,31,33,36,51) have mixed types.Specify dtype option on import or set low_memory=False.\n",
      "  has_raised = await self.run_ast_nodes(code_ast.body, cell_name,\n"
     ]
    },
    {
     "data": {
      "text/html": [
       "<div>\n",
       "<style scoped>\n",
       "    .dataframe tbody tr th:only-of-type {\n",
       "        vertical-align: middle;\n",
       "    }\n",
       "\n",
       "    .dataframe tbody tr th {\n",
       "        vertical-align: top;\n",
       "    }\n",
       "\n",
       "    .dataframe thead th {\n",
       "        text-align: right;\n",
       "    }\n",
       "</style>\n",
       "<table border=\"1\" class=\"dataframe\">\n",
       "  <thead>\n",
       "    <tr style=\"text-align: right;\">\n",
       "      <th></th>\n",
       "      <th>BOROUGH</th>\n",
       "      <th>BIN</th>\n",
       "      <th>Number</th>\n",
       "      <th>Street</th>\n",
       "      <th>Job #</th>\n",
       "      <th>Job doc. #</th>\n",
       "      <th>Job Type</th>\n",
       "      <th>Self_Cert</th>\n",
       "      <th>Block</th>\n",
       "      <th>Lot</th>\n",
       "      <th>...</th>\n",
       "      <th>Owner’s House State</th>\n",
       "      <th>Owner’s House Zip Code</th>\n",
       "      <th>Owner's Phone #</th>\n",
       "      <th>DOBRunDate</th>\n",
       "      <th>Latitude</th>\n",
       "      <th>Longitude</th>\n",
       "      <th>Council District</th>\n",
       "      <th>Census Tract</th>\n",
       "      <th>BBL</th>\n",
       "      <th>NTA</th>\n",
       "    </tr>\n",
       "  </thead>\n",
       "  <tbody>\n",
       "    <tr>\n",
       "      <th>0</th>\n",
       "      <td>BRONX</td>\n",
       "      <td>2118801</td>\n",
       "      <td>2960</td>\n",
       "      <td>WEBSTER AVENUE</td>\n",
       "      <td>201088492</td>\n",
       "      <td>4</td>\n",
       "      <td>NB</td>\n",
       "      <td>NaN</td>\n",
       "      <td>3274</td>\n",
       "      <td>4</td>\n",
       "      <td>...</td>\n",
       "      <td>NaN</td>\n",
       "      <td>NaN</td>\n",
       "      <td>NaN</td>\n",
       "      <td>2016-01-03T00:00:00</td>\n",
       "      <td>40.867490</td>\n",
       "      <td>-73.883225</td>\n",
       "      <td>11.0</td>\n",
       "      <td>425.0</td>\n",
       "      <td>2.032740e+09</td>\n",
       "      <td>Norwood                                       ...</td>\n",
       "    </tr>\n",
       "    <tr>\n",
       "      <th>1</th>\n",
       "      <td>BRONX</td>\n",
       "      <td>2096812</td>\n",
       "      <td>100</td>\n",
       "      <td>DEKRUIF PLACE</td>\n",
       "      <td>200716298</td>\n",
       "      <td>2</td>\n",
       "      <td>A2</td>\n",
       "      <td>NaN</td>\n",
       "      <td>5141</td>\n",
       "      <td>120</td>\n",
       "      <td>...</td>\n",
       "      <td>NaN</td>\n",
       "      <td>NaN</td>\n",
       "      <td>NaN</td>\n",
       "      <td>2016-01-03T00:00:00</td>\n",
       "      <td>40.875769</td>\n",
       "      <td>-73.828899</td>\n",
       "      <td>12.0</td>\n",
       "      <td>46201.0</td>\n",
       "      <td>2.051410e+09</td>\n",
       "      <td>Co-op City                                    ...</td>\n",
       "    </tr>\n",
       "    <tr>\n",
       "      <th>2</th>\n",
       "      <td>BRONX</td>\n",
       "      <td>2008604</td>\n",
       "      <td>1898</td>\n",
       "      <td>HARRISON AVENUE</td>\n",
       "      <td>200974650</td>\n",
       "      <td>2</td>\n",
       "      <td>A2</td>\n",
       "      <td>NaN</td>\n",
       "      <td>2869</td>\n",
       "      <td>87</td>\n",
       "      <td>...</td>\n",
       "      <td>NaN</td>\n",
       "      <td>NaN</td>\n",
       "      <td>NaN</td>\n",
       "      <td>2016-01-03T00:00:00</td>\n",
       "      <td>40.852603</td>\n",
       "      <td>-73.911461</td>\n",
       "      <td>14.0</td>\n",
       "      <td>243.0</td>\n",
       "      <td>2.028690e+09</td>\n",
       "      <td>University Heights-Morris Heights             ...</td>\n",
       "    </tr>\n",
       "    <tr>\n",
       "      <th>3</th>\n",
       "      <td>BRONX</td>\n",
       "      <td>2007652</td>\n",
       "      <td>1998</td>\n",
       "      <td>MORRIS AVENUE</td>\n",
       "      <td>200278118</td>\n",
       "      <td>2</td>\n",
       "      <td>A1</td>\n",
       "      <td>NaN</td>\n",
       "      <td>2807</td>\n",
       "      <td>15</td>\n",
       "      <td>...</td>\n",
       "      <td>NaN</td>\n",
       "      <td>NaN</td>\n",
       "      <td>NaN</td>\n",
       "      <td>2016-01-03T00:00:00</td>\n",
       "      <td>40.851661</td>\n",
       "      <td>-73.906937</td>\n",
       "      <td>14.0</td>\n",
       "      <td>241.0</td>\n",
       "      <td>2.028070e+09</td>\n",
       "      <td>Mount Hope                                    ...</td>\n",
       "    </tr>\n",
       "    <tr>\n",
       "      <th>4</th>\n",
       "      <td>BRONX</td>\n",
       "      <td>2084155</td>\n",
       "      <td>565</td>\n",
       "      <td>WEST  235 STREET</td>\n",
       "      <td>201119173</td>\n",
       "      <td>2</td>\n",
       "      <td>A2</td>\n",
       "      <td>Y</td>\n",
       "      <td>5794</td>\n",
       "      <td>484</td>\n",
       "      <td>...</td>\n",
       "      <td>NaN</td>\n",
       "      <td>NaN</td>\n",
       "      <td>NaN</td>\n",
       "      <td>2016-01-03T00:00:00</td>\n",
       "      <td>40.885720</td>\n",
       "      <td>-73.910270</td>\n",
       "      <td>11.0</td>\n",
       "      <td>297.0</td>\n",
       "      <td>2.057940e+09</td>\n",
       "      <td>Spuyten Duyvil-Kingsbridge                    ...</td>\n",
       "    </tr>\n",
       "  </tbody>\n",
       "</table>\n",
       "<p>5 rows × 60 columns</p>\n",
       "</div>"
      ],
      "text/plain": [
       "  BOROUGH      BIN Number            Street      Job #  Job doc. # Job Type  \\\n",
       "0   BRONX  2118801   2960    WEBSTER AVENUE  201088492           4       NB   \n",
       "1   BRONX  2096812    100     DEKRUIF PLACE  200716298           2       A2   \n",
       "2   BRONX  2008604   1898   HARRISON AVENUE  200974650           2       A2   \n",
       "3   BRONX  2007652   1998     MORRIS AVENUE  200278118           2       A1   \n",
       "4   BRONX  2084155    565  WEST  235 STREET  201119173           2       A2   \n",
       "\n",
       "  Self_Cert Block  Lot  ... Owner’s House State  Owner’s House Zip Code  \\\n",
       "0       NaN  3274    4  ...                 NaN                     NaN   \n",
       "1       NaN  5141  120  ...                 NaN                     NaN   \n",
       "2       NaN  2869   87  ...                 NaN                     NaN   \n",
       "3       NaN  2807   15  ...                 NaN                     NaN   \n",
       "4         Y  5794  484  ...                 NaN                     NaN   \n",
       "\n",
       "   Owner's Phone #           DOBRunDate   Latitude  Longitude  \\\n",
       "0              NaN  2016-01-03T00:00:00  40.867490 -73.883225   \n",
       "1              NaN  2016-01-03T00:00:00  40.875769 -73.828899   \n",
       "2              NaN  2016-01-03T00:00:00  40.852603 -73.911461   \n",
       "3              NaN  2016-01-03T00:00:00  40.851661 -73.906937   \n",
       "4              NaN  2016-01-03T00:00:00  40.885720 -73.910270   \n",
       "\n",
       "  Council District Census Tract           BBL  \\\n",
       "0             11.0        425.0  2.032740e+09   \n",
       "1             12.0      46201.0  2.051410e+09   \n",
       "2             14.0        243.0  2.028690e+09   \n",
       "3             14.0        241.0  2.028070e+09   \n",
       "4             11.0        297.0  2.057940e+09   \n",
       "\n",
       "                                                 NTA  \n",
       "0  Norwood                                       ...  \n",
       "1  Co-op City                                    ...  \n",
       "2  University Heights-Morris Heights             ...  \n",
       "3  Mount Hope                                    ...  \n",
       "4  Spuyten Duyvil-Kingsbridge                    ...  \n",
       "\n",
       "[5 rows x 60 columns]"
      ]
     },
     "execution_count": 1,
     "metadata": {},
     "output_type": "execute_result"
    }
   ],
   "source": [
    "import pandas as pd\n",
    "import numpy as np\n",
    "import matplotlib.pyplot as plt\n",
    "import seaborn as sns\n",
    "import datetime\n",
    "from sklearn.metrics import r2_score\n",
    "%matplotlib inline\n",
    "\n",
    "df = pd.read_csv('./Historical_DOB_Permit_Issuance.csv')\n",
    "df.head()"
   ]
  },
  {
   "cell_type": "markdown",
   "metadata": {},
   "source": [
    "What fraction of all construction permits in this data set correspond to renewed permits? The filing type is recorded under column 'Filing Status'. For first-time permits the value in this column is 'INITIAL' and for renewed permits it is 'RENEWAL'."
   ]
  },
  {
   "cell_type": "code",
   "execution_count": 2,
   "metadata": {},
   "outputs": [
    {
     "data": {
      "text/plain": [
       "2428526"
      ]
     },
     "execution_count": 2,
     "metadata": {},
     "output_type": "execute_result"
    }
   ],
   "source": [
    "rows = df.shape[0]\n",
    "rows"
   ]
  },
  {
   "cell_type": "code",
   "execution_count": 3,
   "metadata": {},
   "outputs": [
    {
     "data": {
      "text/plain": [
       "60"
      ]
     },
     "execution_count": 3,
     "metadata": {},
     "output_type": "execute_result"
    }
   ],
   "source": [
    "columns = df.shape[1]\n",
    "columns"
   ]
  },
  {
   "cell_type": "code",
   "execution_count": 4,
   "metadata": {},
   "outputs": [
    {
     "data": {
      "text/plain": [
       "INITIAL    1851583\n",
       "RENEWAL     576943\n",
       "Name: Filing Status, dtype: int64"
      ]
     },
     "execution_count": 4,
     "metadata": {},
     "output_type": "execute_result"
    }
   ],
   "source": [
    "df['Filing Status'].value_counts()\n"
   ]
  },
  {
   "cell_type": "markdown",
   "metadata": {},
   "source": [
    "Consider only those permits that were issued for more than 365 days. The date on which a permit was issued is recorded in column 'Issuance Date', the date the permit expires is in column 'Expiration Date'. What fraction of these at least year-long permits were issued in the borough with the highest number of such permits? The borough where the construction will take place is in column 'BOROUGH'."
   ]
  },
  {
   "cell_type": "code",
   "execution_count": 12,
   "metadata": {},
   "outputs": [
    {
     "data": {
      "text/plain": [
       "0         2010-11-05\n",
       "1         2012-01-30\n",
       "2         2008-02-04\n",
       "3         1998-08-31\n",
       "4         2007-04-30\n",
       "             ...    \n",
       "2428521   2003-10-08\n",
       "2428522   1997-07-28\n",
       "2428523   1999-07-09\n",
       "2428524   1996-06-25\n",
       "2428525   1999-09-20\n",
       "Name: Issuance Date, Length: 2428526, dtype: datetime64[ns]"
      ]
     },
     "execution_count": 12,
     "metadata": {},
     "output_type": "execute_result"
    }
   ],
   "source": [
    "df['Issuance Date'] = pd.to_datetime(df['Issuance Date'])\n",
    "df['Issuance Date']"
   ]
  },
  {
   "cell_type": "code",
   "execution_count": 37,
   "metadata": {},
   "outputs": [
    {
     "data": {
      "text/plain": [
       "0          2010\n",
       "1          2012\n",
       "2          2008\n",
       "3          1998\n",
       "4          2007\n",
       "           ... \n",
       "2428521    2003\n",
       "2428522    1997\n",
       "2428523    1999\n",
       "2428524    1996\n",
       "2428525    1999\n",
       "Name: Year, Length: 2428526, dtype: int64"
      ]
     },
     "execution_count": 37,
     "metadata": {},
     "output_type": "execute_result"
    }
   ],
   "source": [
    "df['Year'] = pd.DatetimeIndex(df['Issuance Date']).year\n",
    "df['Year']"
   ]
  },
  {
   "cell_type": "code",
   "execution_count": 14,
   "metadata": {},
   "outputs": [
    {
     "data": {
      "text/plain": [
       "0         2011-11-05\n",
       "1         2013-01-29\n",
       "2         2009-02-03\n",
       "3         1999-08-31\n",
       "4         2008-01-08\n",
       "             ...    \n",
       "2428521   2004-04-24\n",
       "2428522   1998-07-10\n",
       "2428523   2000-07-08\n",
       "2428524   1997-06-07\n",
       "2428525   2000-01-01\n",
       "Name: Expiration Date, Length: 2428526, dtype: datetime64[ns]"
      ]
     },
     "execution_count": 14,
     "metadata": {},
     "output_type": "execute_result"
    }
   ],
   "source": [
    "df['Expiration Date'] = pd.to_datetime(df['Expiration Date'])\n",
    "df['Expiration Date']"
   ]
  },
  {
   "cell_type": "code",
   "execution_count": 30,
   "metadata": {},
   "outputs": [
    {
     "data": {
      "text/plain": [
       "0          365.0\n",
       "1          365.0\n",
       "2          365.0\n",
       "3          365.0\n",
       "4          253.0\n",
       "           ...  \n",
       "2428521    199.0\n",
       "2428522    347.0\n",
       "2428523    365.0\n",
       "2428524    347.0\n",
       "2428525    103.0\n",
       "Length: 2428526, dtype: float64"
      ]
     },
     "execution_count": 30,
     "metadata": {},
     "output_type": "execute_result"
    }
   ],
   "source": [
    "date_diff = (df['Expiration Date'] - df['Issuance Date']).astype('timedelta64[D]')\n",
    "date_diff"
   ]
  },
  {
   "cell_type": "code",
   "execution_count": null,
   "metadata": {},
   "outputs": [],
   "source": [
    "df['BOROUGH'].value_counts()\n"
   ]
  },
  {
   "cell_type": "code",
   "execution_count": 31,
   "metadata": {},
   "outputs": [
    {
     "ename": "TypeError",
     "evalue": "'method' object is not subscriptable",
     "output_type": "error",
     "traceback": [
      "\u001b[1;31m---------------------------------------------------------------------------\u001b[0m",
      "\u001b[1;31mTypeError\u001b[0m                                 Traceback (most recent call last)",
      "\u001b[1;32m<ipython-input-31-c0bc0fcc27e9>\u001b[0m in \u001b[0;36m<module>\u001b[1;34m\u001b[0m\n\u001b[1;32m----> 1\u001b[1;33m \u001b[0mdf\u001b[0m\u001b[1;33m.\u001b[0m\u001b[0mgroupby\u001b[0m\u001b[1;33m[\u001b[0m\u001b[1;34m'BOROUGH'\u001b[0m\u001b[1;33m]\u001b[0m\u001b[1;33m(\u001b[0m\u001b[1;33m(\u001b[0m\u001b[0mdf\u001b[0m\u001b[1;33m[\u001b[0m\u001b[1;34m'Expiration Date'\u001b[0m\u001b[1;33m]\u001b[0m \u001b[1;33m-\u001b[0m \u001b[0mdf\u001b[0m\u001b[1;33m[\u001b[0m\u001b[1;34m'Issuance Date'\u001b[0m\u001b[1;33m]\u001b[0m\u001b[1;33m)\u001b[0m\u001b[1;33m)\u001b[0m\u001b[1;33m\u001b[0m\u001b[1;33m\u001b[0m\u001b[0m\n\u001b[0m",
      "\u001b[1;31mTypeError\u001b[0m: 'method' object is not subscriptable"
     ]
    }
   ],
   "source": [
    "df.groupby['BOROUGH']((df['Expiration Date'] - df['Issuance Date']))"
   ]
  },
  {
   "cell_type": "markdown",
   "metadata": {},
   "source": [
    "Observe how the number of issued permits changes accross the years. Limit your analysis to years 1990-2012 (both inclusive). What is the coefficient of determination (R squared) between the year a permit was issued and the number of issued permits that year? The column recording the date when a permit was issued is called 'Issuance Date'."
   ]
  },
  {
   "cell_type": "code",
   "execution_count": 59,
   "metadata": {},
   "outputs": [
    {
     "data": {
      "text/plain": [
       "Year\n",
       "1989      3047\n",
       "1990     23659\n",
       "1991     45784\n",
       "1992     52486\n",
       "1993     57928\n",
       "1994     61050\n",
       "1995     63135\n",
       "1996     66746\n",
       "1997     72796\n",
       "1998     82740\n",
       "1999     91859\n",
       "2000    101503\n",
       "2001    105737\n",
       "2002    111963\n",
       "2003    122632\n",
       "2004    137668\n",
       "2005    150170\n",
       "2006    155959\n",
       "2007    158336\n",
       "2008    150437\n",
       "2009    135825\n",
       "2010    136259\n",
       "2011    143966\n",
       "2012    148546\n",
       "2013     48295\n",
       "Name: Number, dtype: int64"
      ]
     },
     "execution_count": 59,
     "metadata": {},
     "output_type": "execute_result"
    }
   ],
   "source": [
    "df.groupby(['Year'])['Number'].size() \n"
   ]
  },
  {
   "cell_type": "code",
   "execution_count": null,
   "metadata": {},
   "outputs": [],
   "source": [
    "new_df = "
   ]
  },
  {
   "cell_type": "code",
   "execution_count": null,
   "metadata": {},
   "outputs": [],
   "source": [
    "R2 = r2_score(y, f) "
   ]
  }
 ],
 "metadata": {
  "kernelspec": {
   "display_name": "Python 3",
   "language": "python",
   "name": "python3"
  },
  "language_info": {
   "codemirror_mode": {
    "name": "ipython",
    "version": 3
   },
   "file_extension": ".py",
   "mimetype": "text/x-python",
   "name": "python",
   "nbconvert_exporter": "python",
   "pygments_lexer": "ipython3",
   "version": "3.8.3"
  }
 },
 "nbformat": 4,
 "nbformat_minor": 4
}
